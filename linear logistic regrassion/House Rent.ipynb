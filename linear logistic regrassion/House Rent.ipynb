{
 "cells": [
  {
   "cell_type": "code",
   "execution_count": 2,
   "metadata": {},
   "outputs": [],
   "source": [
    "import pandas as pd\n",
    "import numpy as np\n",
    "import matplotlib.pyplot as plt\n",
    "import seaborn as sns\n",
    "from sklearn.linear_model import LinearRegression\n",
    "from sklearn.linear_model import LogisticRegression\n",
    "from sklearn.metrics import mean_absolute_error,mean_squared_error\n",
    "from sklearn.model_selection import train_test_split\n",
    "from sklearn.metrics import accuracy_score"
   ]
  },
  {
   "cell_type": "code",
   "execution_count": 3,
   "metadata": {},
   "outputs": [
    {
     "data": {
      "text/html": [
       "<div>\n",
       "<style scoped>\n",
       "    .dataframe tbody tr th:only-of-type {\n",
       "        vertical-align: middle;\n",
       "    }\n",
       "\n",
       "    .dataframe tbody tr th {\n",
       "        vertical-align: top;\n",
       "    }\n",
       "\n",
       "    .dataframe thead th {\n",
       "        text-align: right;\n",
       "    }\n",
       "</style>\n",
       "<table border=\"1\" class=\"dataframe\">\n",
       "  <thead>\n",
       "    <tr style=\"text-align: right;\">\n",
       "      <th></th>\n",
       "      <th>Posted On</th>\n",
       "      <th>BHK</th>\n",
       "      <th>Rent</th>\n",
       "      <th>Size</th>\n",
       "      <th>Floor</th>\n",
       "      <th>Area Type</th>\n",
       "      <th>Area Locality</th>\n",
       "      <th>City</th>\n",
       "      <th>Furnishing Status</th>\n",
       "      <th>Tenant Preferred</th>\n",
       "      <th>Bathroom</th>\n",
       "      <th>Point of Contact</th>\n",
       "    </tr>\n",
       "  </thead>\n",
       "  <tbody>\n",
       "    <tr>\n",
       "      <th>1566</th>\n",
       "      <td>2022-06-23</td>\n",
       "      <td>2</td>\n",
       "      <td>16000</td>\n",
       "      <td>1100</td>\n",
       "      <td>2 out of 4</td>\n",
       "      <td>Super Area</td>\n",
       "      <td>Jaya Nagar Block 7, Jayanagar</td>\n",
       "      <td>Bangalore</td>\n",
       "      <td>Unfurnished</td>\n",
       "      <td>Bachelors/Family</td>\n",
       "      <td>2</td>\n",
       "      <td>Contact Owner</td>\n",
       "    </tr>\n",
       "    <tr>\n",
       "      <th>3159</th>\n",
       "      <td>2022-05-12</td>\n",
       "      <td>2</td>\n",
       "      <td>12000</td>\n",
       "      <td>800</td>\n",
       "      <td>2 out of 3</td>\n",
       "      <td>Super Area</td>\n",
       "      <td>Manikandan Nagar</td>\n",
       "      <td>Chennai</td>\n",
       "      <td>Furnished</td>\n",
       "      <td>Bachelors/Family</td>\n",
       "      <td>2</td>\n",
       "      <td>Contact Owner</td>\n",
       "    </tr>\n",
       "    <tr>\n",
       "      <th>538</th>\n",
       "      <td>2022-05-10</td>\n",
       "      <td>2</td>\n",
       "      <td>28000</td>\n",
       "      <td>518</td>\n",
       "      <td>5 out of 12</td>\n",
       "      <td>Carpet Area</td>\n",
       "      <td>Bhandup West</td>\n",
       "      <td>Mumbai</td>\n",
       "      <td>Semi-Furnished</td>\n",
       "      <td>Bachelors/Family</td>\n",
       "      <td>2</td>\n",
       "      <td>Contact Owner</td>\n",
       "    </tr>\n",
       "    <tr>\n",
       "      <th>2630</th>\n",
       "      <td>2022-06-08</td>\n",
       "      <td>3</td>\n",
       "      <td>8000</td>\n",
       "      <td>1500</td>\n",
       "      <td>1 out of 1</td>\n",
       "      <td>Carpet Area</td>\n",
       "      <td>Cherlopalli TIRUPATI</td>\n",
       "      <td>Delhi</td>\n",
       "      <td>Unfurnished</td>\n",
       "      <td>Bachelors/Family</td>\n",
       "      <td>3</td>\n",
       "      <td>Contact Owner</td>\n",
       "    </tr>\n",
       "    <tr>\n",
       "      <th>4418</th>\n",
       "      <td>2022-07-06</td>\n",
       "      <td>3</td>\n",
       "      <td>46000</td>\n",
       "      <td>2235</td>\n",
       "      <td>Ground out of 10</td>\n",
       "      <td>Carpet Area</td>\n",
       "      <td>Gachibowli</td>\n",
       "      <td>Hyderabad</td>\n",
       "      <td>Unfurnished</td>\n",
       "      <td>Family</td>\n",
       "      <td>5</td>\n",
       "      <td>Contact Agent</td>\n",
       "    </tr>\n",
       "    <tr>\n",
       "      <th>...</th>\n",
       "      <td>...</td>\n",
       "      <td>...</td>\n",
       "      <td>...</td>\n",
       "      <td>...</td>\n",
       "      <td>...</td>\n",
       "      <td>...</td>\n",
       "      <td>...</td>\n",
       "      <td>...</td>\n",
       "      <td>...</td>\n",
       "      <td>...</td>\n",
       "      <td>...</td>\n",
       "      <td>...</td>\n",
       "    </tr>\n",
       "    <tr>\n",
       "      <th>1854</th>\n",
       "      <td>2022-05-11</td>\n",
       "      <td>2</td>\n",
       "      <td>8900</td>\n",
       "      <td>1100</td>\n",
       "      <td>1 out of 2</td>\n",
       "      <td>Super Area</td>\n",
       "      <td>Sarjapur Road</td>\n",
       "      <td>Bangalore</td>\n",
       "      <td>Semi-Furnished</td>\n",
       "      <td>Bachelors/Family</td>\n",
       "      <td>2</td>\n",
       "      <td>Contact Owner</td>\n",
       "    </tr>\n",
       "    <tr>\n",
       "      <th>4248</th>\n",
       "      <td>2022-06-22</td>\n",
       "      <td>2</td>\n",
       "      <td>12500</td>\n",
       "      <td>1200</td>\n",
       "      <td>2 out of 5</td>\n",
       "      <td>Super Area</td>\n",
       "      <td>Kompally</td>\n",
       "      <td>Hyderabad</td>\n",
       "      <td>Semi-Furnished</td>\n",
       "      <td>Bachelors/Family</td>\n",
       "      <td>2</td>\n",
       "      <td>Contact Owner</td>\n",
       "    </tr>\n",
       "    <tr>\n",
       "      <th>2872</th>\n",
       "      <td>2022-05-30</td>\n",
       "      <td>2</td>\n",
       "      <td>20000</td>\n",
       "      <td>950</td>\n",
       "      <td>2 out of 3</td>\n",
       "      <td>Carpet Area</td>\n",
       "      <td>Geeta Colony PRWS Block 3 And 7, Rajgarh Colony</td>\n",
       "      <td>Delhi</td>\n",
       "      <td>Semi-Furnished</td>\n",
       "      <td>Bachelors/Family</td>\n",
       "      <td>2</td>\n",
       "      <td>Contact Owner</td>\n",
       "    </tr>\n",
       "    <tr>\n",
       "      <th>3030</th>\n",
       "      <td>2022-05-12</td>\n",
       "      <td>2</td>\n",
       "      <td>14000</td>\n",
       "      <td>1000</td>\n",
       "      <td>1 out of 3</td>\n",
       "      <td>Super Area</td>\n",
       "      <td>Kanathur Reddikuppam</td>\n",
       "      <td>Chennai</td>\n",
       "      <td>Unfurnished</td>\n",
       "      <td>Bachelors/Family</td>\n",
       "      <td>2</td>\n",
       "      <td>Contact Owner</td>\n",
       "    </tr>\n",
       "    <tr>\n",
       "      <th>1205</th>\n",
       "      <td>2022-07-09</td>\n",
       "      <td>3</td>\n",
       "      <td>120000</td>\n",
       "      <td>1130</td>\n",
       "      <td>3 out of 7</td>\n",
       "      <td>Carpet Area</td>\n",
       "      <td>Bandra West</td>\n",
       "      <td>Mumbai</td>\n",
       "      <td>Semi-Furnished</td>\n",
       "      <td>Bachelors/Family</td>\n",
       "      <td>3</td>\n",
       "      <td>Contact Agent</td>\n",
       "    </tr>\n",
       "  </tbody>\n",
       "</table>\n",
       "<p>3746 rows × 12 columns</p>\n",
       "</div>"
      ],
      "text/plain": [
       "       Posted On  BHK    Rent  Size             Floor    Area Type  \\\n",
       "1566  2022-06-23    2   16000  1100        2 out of 4   Super Area   \n",
       "3159  2022-05-12    2   12000   800        2 out of 3   Super Area   \n",
       "538   2022-05-10    2   28000   518       5 out of 12  Carpet Area   \n",
       "2630  2022-06-08    3    8000  1500        1 out of 1  Carpet Area   \n",
       "4418  2022-07-06    3   46000  2235  Ground out of 10  Carpet Area   \n",
       "...          ...  ...     ...   ...               ...          ...   \n",
       "1854  2022-05-11    2    8900  1100        1 out of 2   Super Area   \n",
       "4248  2022-06-22    2   12500  1200        2 out of 5   Super Area   \n",
       "2872  2022-05-30    2   20000   950        2 out of 3  Carpet Area   \n",
       "3030  2022-05-12    2   14000  1000        1 out of 3   Super Area   \n",
       "1205  2022-07-09    3  120000  1130        3 out of 7  Carpet Area   \n",
       "\n",
       "                                        Area Locality       City  \\\n",
       "1566                    Jaya Nagar Block 7, Jayanagar  Bangalore   \n",
       "3159                                 Manikandan Nagar    Chennai   \n",
       "538                                      Bhandup West     Mumbai   \n",
       "2630                             Cherlopalli TIRUPATI      Delhi   \n",
       "4418                                       Gachibowli  Hyderabad   \n",
       "...                                               ...        ...   \n",
       "1854                                    Sarjapur Road  Bangalore   \n",
       "4248                                         Kompally  Hyderabad   \n",
       "2872  Geeta Colony PRWS Block 3 And 7, Rajgarh Colony      Delhi   \n",
       "3030                             Kanathur Reddikuppam    Chennai   \n",
       "1205                                      Bandra West     Mumbai   \n",
       "\n",
       "     Furnishing Status  Tenant Preferred  Bathroom Point of Contact  \n",
       "1566       Unfurnished  Bachelors/Family         2    Contact Owner  \n",
       "3159         Furnished  Bachelors/Family         2    Contact Owner  \n",
       "538     Semi-Furnished  Bachelors/Family         2    Contact Owner  \n",
       "2630       Unfurnished  Bachelors/Family         3    Contact Owner  \n",
       "4418       Unfurnished            Family         5    Contact Agent  \n",
       "...                ...               ...       ...              ...  \n",
       "1854    Semi-Furnished  Bachelors/Family         2    Contact Owner  \n",
       "4248    Semi-Furnished  Bachelors/Family         2    Contact Owner  \n",
       "2872    Semi-Furnished  Bachelors/Family         2    Contact Owner  \n",
       "3030       Unfurnished  Bachelors/Family         2    Contact Owner  \n",
       "1205    Semi-Furnished  Bachelors/Family         3    Contact Agent  \n",
       "\n",
       "[3746 rows x 12 columns]"
      ]
     },
     "execution_count": 3,
     "metadata": {},
     "output_type": "execute_result"
    }
   ],
   "source": [
    "data = pd.read_csv(\"./House_Rent_Dataset.csv\")\n",
    "data =  data.sample(frac=1, random_state=42)\n",
    "testData = data[-1000:]\n",
    "\n",
    "data = data.drop(testData.index)\n",
    "data"
   ]
  },
  {
   "cell_type": "code",
   "execution_count": 4,
   "metadata": {},
   "outputs": [],
   "source": [
    "trainData = data.sample(frac=0.8, random_state=42)"
   ]
  },
  {
   "cell_type": "code",
   "execution_count": 5,
   "metadata": {},
   "outputs": [],
   "source": [
    "validation=data.drop(trainData.index)"
   ]
  },
  {
   "cell_type": "code",
   "execution_count": 6,
   "metadata": {},
   "outputs": [
    {
     "name": "stdout",
     "output_type": "stream",
     "text": [
      "Posted On            object\n",
      "BHK                   int64\n",
      "Rent                  int64\n",
      "Size                  int64\n",
      "Floor                object\n",
      "Area Type            object\n",
      "Area Locality        object\n",
      "City                 object\n",
      "Furnishing Status    object\n",
      "Tenant Preferred     object\n",
      "Bathroom              int64\n",
      "Point of Contact     object\n",
      "dtype: object\n",
      "rows: 2997, columns: 12\n"
     ]
    }
   ],
   "source": [
    "print(trainData.dtypes)\n",
    "print(f'rows: {len(trainData)}, columns: {len(trainData.columns)}')"
   ]
  },
  {
   "cell_type": "code",
   "execution_count": 7,
   "metadata": {},
   "outputs": [
    {
     "name": "stdout",
     "output_type": "stream",
     "text": [
      "Posted On            object\n",
      "BHK                   int64\n",
      "Rent                  int64\n",
      "Size                  int64\n",
      "Floor                object\n",
      "Area Type            object\n",
      "Area Locality        object\n",
      "City                 object\n",
      "Furnishing Status    object\n",
      "Tenant Preferred     object\n",
      "Bathroom              int64\n",
      "Point of Contact     object\n",
      "dtype: object\n",
      "rows: 749, columns: 12\n"
     ]
    }
   ],
   "source": [
    "print(validation.dtypes)\n",
    "print(f'rows: {len(validation)}, columns: {len(validation.columns)}')"
   ]
  },
  {
   "cell_type": "code",
   "execution_count": 8,
   "metadata": {},
   "outputs": [
    {
     "name": "stdout",
     "output_type": "stream",
     "text": [
      "Posted On            object\n",
      "BHK                   int64\n",
      "Rent                  int64\n",
      "Size                  int64\n",
      "Floor                object\n",
      "Area Type            object\n",
      "Area Locality        object\n",
      "City                 object\n",
      "Furnishing Status    object\n",
      "Tenant Preferred     object\n",
      "Bathroom              int64\n",
      "Point of Contact     object\n",
      "dtype: object\n",
      "rows: 1000, columns: 12\n"
     ]
    }
   ],
   "source": [
    "print(testData.dtypes)\n",
    "print(f'rows: {len(testData)}, columns: {len(testData.columns)}')"
   ]
  },
  {
   "cell_type": "code",
   "execution_count": 9,
   "metadata": {},
   "outputs": [
    {
     "name": "stdout",
     "output_type": "stream",
     "text": [
      "BHK                  0\n",
      "Rent                 0\n",
      "Size                 0\n",
      "City                 0\n",
      "Furnishing Status    0\n",
      "Bathroom             0\n",
      "dtype: int64\n"
     ]
    }
   ],
   "source": [
    "#cleaning data\n",
    "\n",
    "trainData=trainData.drop(['Posted On','Floor','Area Type','Area Locality','Tenant Preferred','Point of Contact'],axis=1)\n",
    "\n",
    "print(trainData.isna().sum())"
   ]
  },
  {
   "cell_type": "code",
   "execution_count": 60,
   "metadata": {},
   "outputs": [],
   "source": [
    "testData['Furnishing Status']=testData['Furnishing Status'].replace('Furnished',3)\n",
    "testData['Furnishing Status']=testData['Furnishing Status'].replace('Semi-Furnished',2)\n",
    "testData['Furnishing Status']=testData['Furnishing Status'].replace('Unfurnished',1)"
   ]
  },
  {
   "cell_type": "code",
   "execution_count": 61,
   "metadata": {},
   "outputs": [],
   "source": [
    "testData['City']=testData['City'].replace('Bangalore',1)\n",
    "testData['City']=testData['City'].replace('Kolkata',2)\n",
    "testData['City']=testData['City'].replace('Hyderabad',3)\n",
    "testData['City']=testData['City'].replace('Chennai',4)\n",
    "testData['City']=testData['City'].replace('Delhi',5)\n",
    "testData['City']=testData['City'].replace('Mumbai',6)"
   ]
  },
  {
   "cell_type": "code",
   "execution_count": 62,
   "metadata": {},
   "outputs": [],
   "source": [
    "trainData['Furnishing Status']=trainData['Furnishing Status'].replace('Furnished',3)\n",
    "trainData['Furnishing Status']=trainData['Furnishing Status'].replace('Semi-Furnished',2)\n",
    "trainData['Furnishing Status']=trainData['Furnishing Status'].replace('Unfurnished',1)"
   ]
  },
  {
   "cell_type": "code",
   "execution_count": 66,
   "metadata": {},
   "outputs": [],
   "source": [
    "trainData['City']=trainData['City'].replace('Bangalore',1)\n",
    "trainData['City']=trainData['City'].replace('Kolkata',2)\n",
    "trainData['City']=trainData['City'].replace('Hyderabad',3)\n",
    "trainData['City']=trainData['City'].replace('Chennai',4)\n",
    "trainData['City']=trainData['City'].replace('Delhi',5)\n",
    "trainData['City']=trainData['City'].replace('Mumbai',6)"
   ]
  },
  {
   "cell_type": "code",
   "execution_count": 63,
   "metadata": {},
   "outputs": [],
   "source": [
    "validation['Furnishing Status']=validation['Furnishing Status'].replace('Furnished',3)\n",
    "validation['Furnishing Status']=validation['Furnishing Status'].replace('Semi-Furnished',2)\n",
    "validation['Furnishing Status']=validation['Furnishing Status'].replace('Unfurnished',1)"
   ]
  },
  {
   "cell_type": "code",
   "execution_count": 64,
   "metadata": {},
   "outputs": [],
   "source": [
    "validation['City']=validation['City'].replace('Bangalore',1)\n",
    "validation['City']=validation['City'].replace('Kolkata',2)\n",
    "validation['City']=validation['City'].replace('Hyderabad',3)\n",
    "validation['City']=validation['City'].replace('Chennai',4)\n",
    "validation['City']=validation['City'].replace('Delhi',5)\n",
    "validation['City']=validation['City'].replace('Mumbai',6)"
   ]
  },
  {
   "cell_type": "code",
   "execution_count": 67,
   "metadata": {},
   "outputs": [
    {
     "data": {
      "text/html": [
       "<div>\n",
       "<style scoped>\n",
       "    .dataframe tbody tr th:only-of-type {\n",
       "        vertical-align: middle;\n",
       "    }\n",
       "\n",
       "    .dataframe tbody tr th {\n",
       "        vertical-align: top;\n",
       "    }\n",
       "\n",
       "    .dataframe thead th {\n",
       "        text-align: right;\n",
       "    }\n",
       "</style>\n",
       "<table border=\"1\" class=\"dataframe\">\n",
       "  <thead>\n",
       "    <tr style=\"text-align: right;\">\n",
       "      <th></th>\n",
       "      <th>BHK</th>\n",
       "      <th>Rent</th>\n",
       "      <th>Size</th>\n",
       "      <th>City</th>\n",
       "      <th>Furnishing Status</th>\n",
       "      <th>Bathroom</th>\n",
       "    </tr>\n",
       "  </thead>\n",
       "  <tbody>\n",
       "    <tr>\n",
       "      <th>46</th>\n",
       "      <td>2</td>\n",
       "      <td>4600</td>\n",
       "      <td>400</td>\n",
       "      <td>2</td>\n",
       "      <td>1</td>\n",
       "      <td>1</td>\n",
       "    </tr>\n",
       "    <tr>\n",
       "      <th>518</th>\n",
       "      <td>2</td>\n",
       "      <td>45000</td>\n",
       "      <td>1320</td>\n",
       "      <td>2</td>\n",
       "      <td>2</td>\n",
       "      <td>2</td>\n",
       "    </tr>\n",
       "    <tr>\n",
       "      <th>3930</th>\n",
       "      <td>3</td>\n",
       "      <td>75000</td>\n",
       "      <td>2395</td>\n",
       "      <td>3</td>\n",
       "      <td>1</td>\n",
       "      <td>3</td>\n",
       "    </tr>\n",
       "    <tr>\n",
       "      <th>201</th>\n",
       "      <td>1</td>\n",
       "      <td>10000</td>\n",
       "      <td>700</td>\n",
       "      <td>2</td>\n",
       "      <td>0</td>\n",
       "      <td>1</td>\n",
       "    </tr>\n",
       "    <tr>\n",
       "      <th>3520</th>\n",
       "      <td>3</td>\n",
       "      <td>65000</td>\n",
       "      <td>1444</td>\n",
       "      <td>4</td>\n",
       "      <td>1</td>\n",
       "      <td>3</td>\n",
       "    </tr>\n",
       "    <tr>\n",
       "      <th>...</th>\n",
       "      <td>...</td>\n",
       "      <td>...</td>\n",
       "      <td>...</td>\n",
       "      <td>...</td>\n",
       "      <td>...</td>\n",
       "      <td>...</td>\n",
       "    </tr>\n",
       "    <tr>\n",
       "      <th>2224</th>\n",
       "      <td>1</td>\n",
       "      <td>6500</td>\n",
       "      <td>450</td>\n",
       "      <td>1</td>\n",
       "      <td>1</td>\n",
       "      <td>1</td>\n",
       "    </tr>\n",
       "    <tr>\n",
       "      <th>2293</th>\n",
       "      <td>1</td>\n",
       "      <td>4000</td>\n",
       "      <td>250</td>\n",
       "      <td>1</td>\n",
       "      <td>0</td>\n",
       "      <td>1</td>\n",
       "    </tr>\n",
       "    <tr>\n",
       "      <th>1814</th>\n",
       "      <td>2</td>\n",
       "      <td>9750</td>\n",
       "      <td>575</td>\n",
       "      <td>1</td>\n",
       "      <td>1</td>\n",
       "      <td>2</td>\n",
       "    </tr>\n",
       "    <tr>\n",
       "      <th>1950</th>\n",
       "      <td>2</td>\n",
       "      <td>12000</td>\n",
       "      <td>650</td>\n",
       "      <td>1</td>\n",
       "      <td>1</td>\n",
       "      <td>2</td>\n",
       "    </tr>\n",
       "    <tr>\n",
       "      <th>4037</th>\n",
       "      <td>2</td>\n",
       "      <td>10000</td>\n",
       "      <td>1090</td>\n",
       "      <td>3</td>\n",
       "      <td>0</td>\n",
       "      <td>2</td>\n",
       "    </tr>\n",
       "  </tbody>\n",
       "</table>\n",
       "<p>2997 rows × 6 columns</p>\n",
       "</div>"
      ],
      "text/plain": [
       "      BHK   Rent  Size  City  Furnishing Status  Bathroom\n",
       "46      2   4600   400     2                  1         1\n",
       "518     2  45000  1320     2                  2         2\n",
       "3930    3  75000  2395     3                  1         3\n",
       "201     1  10000   700     2                  0         1\n",
       "3520    3  65000  1444     4                  1         3\n",
       "...   ...    ...   ...   ...                ...       ...\n",
       "2224    1   6500   450     1                  1         1\n",
       "2293    1   4000   250     1                  0         1\n",
       "1814    2   9750   575     1                  1         2\n",
       "1950    2  12000   650     1                  1         2\n",
       "4037    2  10000  1090     3                  0         2\n",
       "\n",
       "[2997 rows x 6 columns]"
      ]
     },
     "execution_count": 67,
     "metadata": {},
     "output_type": "execute_result"
    }
   ],
   "source": [
    "trainData"
   ]
  },
  {
   "cell_type": "code",
   "execution_count": 68,
   "metadata": {},
   "outputs": [
    {
     "data": {
      "image/png": "[encoded data removed]",
      "text/plain": [
       "<Figure size 640x480 with 1 Axes>"
      ]
     },
     "metadata": {},
     "output_type": "display_data"
    }
   ],
   "source": [
    "#rent vs Size of house\n",
    "\n",
    "plt.grid()\n",
    "sns.scatterplot(x=trainData['Size'],y=trainData['Rent'])\n",
    "plt.xlabel(\"Size\")\n",
    "plt.ylabel(\"Rent\")\n",
    "plt.title(\"Size vs Rent Plot\")\n",
    "plt.savefig('figure.png')\n",
    "\n",
    "plt.show()"
   ]
  },
  {
   "cell_type": "code",
   "execution_count": 69,
   "metadata": {},
   "outputs": [
    {
     "name": "stdout",
     "output_type": "stream",
     "text": [
      "Average Rent of different cities:\n",
      " City\n",
      "1    27585.763060\n",
      "2    11909.943953\n",
      "3    20448.101266\n",
      "4    22145.766372\n",
      "5    30994.748031\n",
      "6    85821.845907\n",
      "Name: Rent, dtype: float64\n",
      "Maximum rent is:  85821.84590690209  of city: Mumbai \n"
     ]
    },
    {
     "data": {
      "text/plain": [
       "City\n",
       "6    85821.845907\n",
       "Name: Rent, dtype: float64"
      ]
     },
     "execution_count": 69,
     "metadata": {},
     "output_type": "execute_result"
    }
   ],
   "source": [
    "#avrage rent prices of each city\n",
    "\n",
    "average_rent_of_cities=trainData.groupby('City')['Rent'].mean()\n",
    "print(\"Average Rent of different cities:\\n\",average_rent_of_cities)\n",
    "print(\"Maximum rent is: \",average_rent_of_cities.max(),\" of city: Mumbai \")\n",
    "average_rent_of_cities[average_rent_of_cities==average_rent_of_cities.max()]"
   ]
  },
  {
   "cell_type": "code",
   "execution_count": 70,
   "metadata": {},
   "outputs": [
    {
     "data": {
      "text/plain": [
       "Text(0, 0.5, 'Rent')"
      ]
     },
     "execution_count": 70,
     "metadata": {},
     "output_type": "execute_result"
    },
    {
     "data": {
      "image/png": "[encoded data removed]",
      "text/plain": [
       "<Figure size 640x480 with 1 Axes>"
      ]
     },
     "metadata": {},
     "output_type": "display_data"
    }
   ],
   "source": [
    "average_rent_of_cities.plot()\n",
    "plt.grid()\n",
    "plt.ylabel(\"Rent\")"
   ]
  },
  {
   "cell_type": "code",
   "execution_count": 71,
   "metadata": {},
   "outputs": [
    {
     "data": {
      "text/html": [
       "<div>\n",
       "<style scoped>\n",
       "    .dataframe tbody tr th:only-of-type {\n",
       "        vertical-align: middle;\n",
       "    }\n",
       "\n",
       "    .dataframe tbody tr th {\n",
       "        vertical-align: top;\n",
       "    }\n",
       "\n",
       "    .dataframe thead th {\n",
       "        text-align: right;\n",
       "    }\n",
       "</style>\n",
       "<table border=\"1\" class=\"dataframe\">\n",
       "  <thead>\n",
       "    <tr style=\"text-align: right;\">\n",
       "      <th></th>\n",
       "      <th>BHK</th>\n",
       "      <th>Rent</th>\n",
       "      <th>Size</th>\n",
       "      <th>City</th>\n",
       "      <th>Furnishing Status</th>\n",
       "      <th>Bathroom</th>\n",
       "    </tr>\n",
       "  </thead>\n",
       "  <tbody>\n",
       "    <tr>\n",
       "      <th>46</th>\n",
       "      <td>2</td>\n",
       "      <td>4600</td>\n",
       "      <td>400</td>\n",
       "      <td>2</td>\n",
       "      <td>1</td>\n",
       "      <td>1</td>\n",
       "    </tr>\n",
       "    <tr>\n",
       "      <th>518</th>\n",
       "      <td>2</td>\n",
       "      <td>45000</td>\n",
       "      <td>1320</td>\n",
       "      <td>2</td>\n",
       "      <td>2</td>\n",
       "      <td>2</td>\n",
       "    </tr>\n",
       "    <tr>\n",
       "      <th>3930</th>\n",
       "      <td>3</td>\n",
       "      <td>75000</td>\n",
       "      <td>2395</td>\n",
       "      <td>3</td>\n",
       "      <td>1</td>\n",
       "      <td>3</td>\n",
       "    </tr>\n",
       "    <tr>\n",
       "      <th>201</th>\n",
       "      <td>1</td>\n",
       "      <td>10000</td>\n",
       "      <td>700</td>\n",
       "      <td>2</td>\n",
       "      <td>0</td>\n",
       "      <td>1</td>\n",
       "    </tr>\n",
       "    <tr>\n",
       "      <th>3520</th>\n",
       "      <td>3</td>\n",
       "      <td>65000</td>\n",
       "      <td>1444</td>\n",
       "      <td>4</td>\n",
       "      <td>1</td>\n",
       "      <td>3</td>\n",
       "    </tr>\n",
       "    <tr>\n",
       "      <th>...</th>\n",
       "      <td>...</td>\n",
       "      <td>...</td>\n",
       "      <td>...</td>\n",
       "      <td>...</td>\n",
       "      <td>...</td>\n",
       "      <td>...</td>\n",
       "    </tr>\n",
       "    <tr>\n",
       "      <th>2224</th>\n",
       "      <td>1</td>\n",
       "      <td>6500</td>\n",
       "      <td>450</td>\n",
       "      <td>1</td>\n",
       "      <td>1</td>\n",
       "      <td>1</td>\n",
       "    </tr>\n",
       "    <tr>\n",
       "      <th>2293</th>\n",
       "      <td>1</td>\n",
       "      <td>4000</td>\n",
       "      <td>250</td>\n",
       "      <td>1</td>\n",
       "      <td>0</td>\n",
       "      <td>1</td>\n",
       "    </tr>\n",
       "    <tr>\n",
       "      <th>1814</th>\n",
       "      <td>2</td>\n",
       "      <td>9750</td>\n",
       "      <td>575</td>\n",
       "      <td>1</td>\n",
       "      <td>1</td>\n",
       "      <td>2</td>\n",
       "    </tr>\n",
       "    <tr>\n",
       "      <th>1950</th>\n",
       "      <td>2</td>\n",
       "      <td>12000</td>\n",
       "      <td>650</td>\n",
       "      <td>1</td>\n",
       "      <td>1</td>\n",
       "      <td>2</td>\n",
       "    </tr>\n",
       "    <tr>\n",
       "      <th>4037</th>\n",
       "      <td>2</td>\n",
       "      <td>10000</td>\n",
       "      <td>1090</td>\n",
       "      <td>3</td>\n",
       "      <td>0</td>\n",
       "      <td>2</td>\n",
       "    </tr>\n",
       "  </tbody>\n",
       "</table>\n",
       "<p>2997 rows × 6 columns</p>\n",
       "</div>"
      ],
      "text/plain": [
       "      BHK   Rent  Size  City  Furnishing Status  Bathroom\n",
       "46      2   4600   400     2                  1         1\n",
       "518     2  45000  1320     2                  2         2\n",
       "3930    3  75000  2395     3                  1         3\n",
       "201     1  10000   700     2                  0         1\n",
       "3520    3  65000  1444     4                  1         3\n",
       "...   ...    ...   ...   ...                ...       ...\n",
       "2224    1   6500   450     1                  1         1\n",
       "2293    1   4000   250     1                  0         1\n",
       "1814    2   9750   575     1                  1         2\n",
       "1950    2  12000   650     1                  1         2\n",
       "4037    2  10000  1090     3                  0         2\n",
       "\n",
       "[2997 rows x 6 columns]"
      ]
     },
     "execution_count": 71,
     "metadata": {},
     "output_type": "execute_result"
    }
   ],
   "source": [
    "#regression\n",
    "\n",
    "model = LinearRegression()\n",
    "trainData"
   ]
  },
  {
   "cell_type": "code",
   "execution_count": 72,
   "metadata": {},
   "outputs": [
    {
     "data": {
      "text/html": [
       "<style>#sk-container-id-8 {color: black;background-color: white;}#sk-container-id-8 pre{padding: 0;}#sk-container-id-8 div.sk-toggleable {background-color: white;}#sk-container-id-8 label.sk-toggleable__label {cursor: pointer;display: block;width: 100%;margin-bottom: 0;padding: 0.3em;box-sizing: border-box;text-align: center;}#sk-container-id-8 label.sk-toggleable__label-arrow:before {content: \"▸\";float: left;margin-right: 0.25em;color: #696969;}#sk-container-id-8 label.sk-toggleable__label-arrow:hover:before {color: black;}#sk-container-id-8 div.sk-estimator:hover label.sk-toggleable__label-arrow:before {color: black;}#sk-container-id-8 div.sk-toggleable__content {max-height: 0;max-width: 0;overflow: hidden;text-align: left;background-color: #f0f8ff;}#sk-container-id-8 div.sk-toggleable__content pre {margin: 0.2em;color: black;border-radius: 0.25em;background-color: #f0f8ff;}#sk-container-id-8 input.sk-toggleable__control:checked~div.sk-toggleable__content {max-height: 200px;max-width: 100%;overflow: auto;}#sk-container-id-8 input.sk-toggleable__control:checked~label.sk-toggleable__label-arrow:before {content: \"▾\";}#sk-container-id-8 div.sk-estimator input.sk-toggleable__control:checked~label.sk-toggleable__label {background-color: #d4ebff;}#sk-container-id-8 div.sk-label input.sk-toggleable__control:checked~label.sk-toggleable__label {background-color: #d4ebff;}#sk-container-id-8 input.sk-hidden--visually {border: 0;clip: rect(1px 1px 1px 1px);clip: rect(1px, 1px, 1px, 1px);height: 1px;margin: -1px;overflow: hidden;padding: 0;position: absolute;width: 1px;}#sk-container-id-8 div.sk-estimator {font-family: monospace;background-color: #f0f8ff;border: 1px dotted black;border-radius: 0.25em;box-sizing: border-box;margin-bottom: 0.5em;}#sk-container-id-8 div.sk-estimator:hover {background-color: #d4ebff;}#sk-container-id-8 div.sk-parallel-item::after {content: \"\";width: 100%;border-bottom: 1px solid gray;flex-grow: 1;}#sk-container-id-8 div.sk-label:hover label.sk-toggleable__label {background-color: #d4ebff;}#sk-container-id-8 div.sk-serial::before {content: \"\";position: absolute;border-left: 1px solid gray;box-sizing: border-box;top: 0;bottom: 0;left: 50%;z-index: 0;}#sk-container-id-8 div.sk-serial {display: flex;flex-direction: column;align-items: center;background-color: white;padding-right: 0.2em;padding-left: 0.2em;position: relative;}#sk-container-id-8 div.sk-item {position: relative;z-index: 1;}#sk-container-id-8 div.sk-parallel {display: flex;align-items: stretch;justify-content: center;background-color: white;position: relative;}#sk-container-id-8 div.sk-item::before, #sk-container-id-8 div.sk-parallel-item::before {content: \"\";position: absolute;border-left: 1px solid gray;box-sizing: border-box;top: 0;bottom: 0;left: 50%;z-index: -1;}#sk-container-id-8 div.sk-parallel-item {display: flex;flex-direction: column;z-index: 1;position: relative;background-color: white;}#sk-container-id-8 div.sk-parallel-item:first-child::after {align-self: flex-end;width: 50%;}#sk-container-id-8 div.sk-parallel-item:last-child::after {align-self: flex-start;width: 50%;}#sk-container-id-8 div.sk-parallel-item:only-child::after {width: 0;}#sk-container-id-8 div.sk-dashed-wrapped {border: 1px dashed gray;margin: 0 0.4em 0.5em 0.4em;box-sizing: border-box;padding-bottom: 0.4em;background-color: white;}#sk-container-id-8 div.sk-label label {font-family: monospace;font-weight: bold;display: inline-block;line-height: 1.2em;}#sk-container-id-8 div.sk-label-container {text-align: center;}#sk-container-id-8 div.sk-container {/* jupyter's `normalize.less` sets `[hidden] { display: none; }` but bootstrap.min.css set `[hidden] { display: none !important; }` so we also need the `!important` here to be able to override the default hidden behavior on the sphinx rendered scikit-learn.org. See: https://github.com/scikit-learn/scikit-learn/issues/21755 */display: inline-block !important;position: relative;}#sk-container-id-8 div.sk-text-repr-fallback {display: none;}</style><div id=\"sk-container-id-8\" class=\"sk-top-container\"><div class=\"sk-text-repr-fallback\"><pre>LinearRegression()</pre><b>In a Jupyter environment, please rerun this cell to show the HTML representation or trust the notebook. <br />On GitHub, the HTML representation is unable to render, please try loading this page with nbviewer.org.</b></div><div class=\"sk-container\" hidden><div class=\"sk-item\"><div class=\"sk-estimator sk-toggleable\"><input class=\"sk-toggleable__control sk-hidden--visually\" id=\"sk-estimator-id-8\" type=\"checkbox\" checked><label for=\"sk-estimator-id-8\" class=\"sk-toggleable__label sk-toggleable__label-arrow\">LinearRegression</label><div class=\"sk-toggleable__content\"><pre>LinearRegression()</pre></div></div></div></div></div>"
      ],
      "text/plain": [
       "LinearRegression()"
      ]
     },
     "execution_count": 72,
     "metadata": {},
     "output_type": "execute_result"
    }
   ],
   "source": [
    "test_train=trainData[['BHK','Size', 'Furnishing Status','Bathroom', 'City']]\n",
    "\n",
    "model.fit(test_train,trainData['Rent'])"
   ]
  },
  {
   "cell_type": "code",
   "execution_count": 73,
   "metadata": {},
   "outputs": [
    {
     "data": {
      "text/plain": [
       "array([ 7.77558704e+04,  1.23469601e+04,  2.95764796e+04,  5.79247193e+04,\n",
       "        7.93634843e+04,  9.86603714e+03, -2.84486471e+04,  4.28494503e+04,\n",
       "        9.25677815e+04,  8.54088476e+03,  8.24776205e+03,  4.22558014e+04,\n",
       "       -1.27822662e+03, -1.95641305e+04,  3.82167421e+04, -2.22249633e+04,\n",
       "        2.95764796e+04,  1.15053459e+05,  7.86703317e+04,  8.13693720e+04,\n",
       "       -7.23855252e+03,  5.46637883e+04,  4.70190423e+03,  3.95173805e+04,\n",
       "        1.10614354e+05,  3.53682580e+04,  1.21543864e+04,  3.06346956e+03,\n",
       "        9.49249879e+03,  8.47010061e+03,  1.77317478e+05, -5.33849096e+03,\n",
       "        4.03472050e+04,  4.24217663e+04,  1.60828013e+05,  4.94582814e+04,\n",
       "        2.72965729e+04,  9.94159442e+04,  5.16897817e+03,  2.81263974e+04,\n",
       "        1.02809494e+04, -4.17839110e+03,  1.85706438e+04,  1.12905758e+04,\n",
       "        3.20489600e+04, -1.10265538e+04,  4.86582218e+04,  2.97839357e+04,\n",
       "        4.35277204e+04,  3.33128005e+04,  4.05029807e+04,  7.02001837e+03,\n",
       "        2.98398374e+04,  2.68688888e+04,  5.35744725e+04,  3.55608317e+04,\n",
       "       -1.64331849e+04,  1.53140421e+04,  5.77735195e+04,  4.99609709e+04,\n",
       "        1.46937843e+04,  1.79790962e+04,  2.99616270e+04,  3.58001633e+04,\n",
       "       -1.54150080e+04,  1.11691409e+04,  3.23792354e+04,  1.18175854e+05,\n",
       "        8.19783759e+03,  6.06237595e+04,  4.61729696e+04,  5.64746370e+04,\n",
       "        4.88529061e+04,  1.95040107e+05,  4.25462399e+04,  8.73834890e+04,\n",
       "        5.97981563e+04, -1.90614410e+04,  1.98281524e+04,  4.88656779e+04,\n",
       "        1.01922411e+05,  2.33278258e+04,  9.79658620e+04,  1.12399250e+04,\n",
       "        1.15677938e+05, -2.63740858e+04,  3.31497923e+02,  8.28406686e+04,\n",
       "        5.76347369e+04,  2.35325977e+04,  1.24947494e+04, -3.46723308e+04,\n",
       "        6.83102973e+04, -2.63740858e+04,  4.49240116e+04,  6.30594419e+04,\n",
       "        2.75019184e+04, -3.35278787e+03,  9.19433025e+04,  4.47228873e+04,\n",
       "        9.22777991e+04,  5.90762686e+04, -2.02912953e+04,  4.38010644e+04,\n",
       "        7.12700113e+04,  3.24680935e+04,  2.27197663e+04,  3.72374738e+04,\n",
       "        1.42997318e+04,  6.89220045e+04,  3.22755199e+04,  2.87089587e+03,\n",
       "        5.21849759e+04,  1.85622013e+04,  1.33292604e+05,  3.31011231e+04,\n",
       "       -6.60552297e+03, -1.02095012e+04,  7.89628809e+04, -1.64331849e+04,\n",
       "        8.86112327e+04,  5.14999113e+04,  4.57410643e+04,  2.15037397e+04,\n",
       "        4.89934447e+04,  1.39457087e+05,  2.95764796e+04,  4.23073803e+04,\n",
       "        3.39181758e+04,  2.04855628e+04,  9.19433025e+04,  6.19945071e+04,\n",
       "       -2.59410215e+03,  6.88331464e+04,  1.59423877e+04,  8.47010061e+03,\n",
       "        7.96334627e+02,  8.61387522e+04,  1.46796356e+05,  9.49249879e+03,\n",
       "        5.90140350e+04,  4.49240116e+04,  3.90525438e+04,  6.13748228e+04,\n",
       "       -3.43032144e+02, -2.22249633e+04,  8.77941800e+04,  1.64960826e+04,\n",
       "        3.64246424e+04, -1.91322251e+04,  1.42387743e+05,  4.20238471e+04,\n",
       "       -1.29085414e+04,  1.03396874e+05,  1.05446619e+04,  2.27197663e+04,\n",
       "        1.36044686e+04,  8.52877134e+04,  5.56947370e+04,  2.19432270e+05,\n",
       "       -1.02095012e+04, -2.30717809e+04, -2.19530549e+04,  2.71737286e+04,\n",
       "        4.23138295e+04,  1.30320247e+04,  6.02300616e+04,  4.78864097e+04,\n",
       "        1.18018158e+04, -9.21570507e+03,  1.88920256e+05,  8.47010061e+03,\n",
       "        2.36170328e+05,  1.26022300e+04,  4.63655433e+04,  5.79247193e+04,\n",
       "       -6.80664721e+03,  3.75008316e+04,  6.95464835e+04,  3.22755199e+04,\n",
       "        7.80500740e+04, -2.26568686e+04,  2.27197663e+04,  3.84992036e+04,\n",
       "        2.44421116e+04,  4.15919418e+04,  4.05791593e+04,  6.78068674e+03,\n",
       "        1.86035752e+04,  2.00915102e+04,  5.13402690e+04,  1.21225109e+04,\n",
       "        4.63655433e+04,  1.28652375e+05,  4.76145013e+04,  8.82154241e+04,\n",
       "        1.75960595e+04, -1.51048922e+04,  3.31497923e+02,  1.26043407e+04,\n",
       "        3.84992036e+04,  1.91930122e+04,  2.21282187e+04,  4.05462279e+04,\n",
       "       -1.85077461e+04, -2.26568686e+04,  1.49159778e+03, -6.53747615e+02,\n",
       "        1.27788654e+04,  4.65666675e+04,  4.49240116e+04,  5.19647480e+04,\n",
       "        8.67674525e+04, -1.07631960e+04,  1.26192231e+04,  6.47728820e+04,\n",
       "        5.46637883e+04,  1.49159778e+03, -2.22249633e+04,  2.27197663e+04,\n",
       "        1.69279879e+04, -1.25106222e+04,  4.43703167e+04, -2.22249633e+04,\n",
       "        1.26746007e+05,  5.27733582e+04,  6.55518166e+03, -2.53573518e+03,\n",
       "        1.33460797e+05,  5.10087816e+03,  5.48649125e+04,  2.81263974e+04,\n",
       "        2.21282187e+04,  1.48991298e+04,  3.10467214e+04, -2.48532194e+04,\n",
       "        4.05737648e+04,  3.74428193e+04, -8.13493991e+03,  6.10885962e+04,\n",
       "        4.51873694e+04,  5.90140350e+04,  4.59338726e+04,  5.65075684e+04,\n",
       "        1.83780701e+04,  2.15207328e+04,  1.05446619e+04,  4.53389238e+04,\n",
       "       -3.05232083e+04,  8.41384427e+03,  1.44215213e+04,  4.49947957e+04,\n",
       "       -2.34031372e+04,  4.57538361e+04,  2.27197663e+04, -6.80664721e+03,\n",
       "        3.64954265e+04, -1.64331849e+04, -1.49831027e+04,  5.26557899e+04,\n",
       "        1.78158017e+03,  4.90561410e+04,  4.58756256e+04,  1.06657805e+05,\n",
       "       -3.07327751e+04,  4.40941871e+04,  2.47006746e+04, -1.30303309e+04,\n",
       "        5.90848191e+04,  2.96801951e+04,  1.79723057e+05,  5.11681648e+03,\n",
       "        4.15919418e+04, -1.68650902e+04,  7.91640575e+03,  5.64746370e+04,\n",
       "        2.87089587e+03,  1.94999626e+04,  7.61638652e+04,  3.68183403e+04,\n",
       "        1.00866026e+05, -1.07631960e+04,  5.36989462e+04,  3.64246424e+04,\n",
       "       -1.13768802e+03, -3.14744237e+03,  2.56199308e+04,  5.11476953e+04,\n",
       "        3.55757142e+04,  2.91445743e+04, -2.26568686e+04,  4.80081992e+04,\n",
       "       -3.88214533e+04, -1.46223361e+04, -3.35278787e+03, -2.88805524e+04,\n",
       "        7.96334627e+02,  4.61687483e+04,  2.67092465e+04, -2.63740858e+04,\n",
       "        3.39181758e+04,  4.05137434e+04,  3.89636857e+04,  1.67541969e+05,\n",
       "        8.84186590e+04, -2.34739213e+04,  5.20355322e+04,  6.31132330e+04,\n",
       "        2.83497918e+04,  6.31302261e+04,  2.81593288e+04, -1.91322251e+04,\n",
       "       -2.22249633e+04, -2.05823074e+04,  1.07844175e+05,  3.51799056e+04,\n",
       "        2.87508764e+04, -2.49240036e+04, -5.89640708e+03,  8.62974291e+03,\n",
       "        1.93834753e+04,  1.53182634e+04,  2.74604271e+04, -3.41970539e+03,\n",
       "        4.46308889e+04,  5.53676020e+04,  3.08254376e+04,  3.33106899e+04,\n",
       "        8.19783759e+03,  6.54059116e+04,  4.33861521e+04,  4.60240995e+03,\n",
       "       -6.43579300e+03,  3.30883513e+04,  2.42406327e+04, -2.49240036e+04,\n",
       "       -3.46723308e+04,  1.45417058e+05,  1.98610838e+04,  5.23796603e+04,\n",
       "        3.78991054e+04,  4.38590767e+04,  4.08456732e+04,  3.12899197e+04,\n",
       "        3.77359420e+04,  9.96085179e+04,  4.83183150e+04,  1.44215213e+04,\n",
       "        4.13993681e+04,  5.49356966e+04,  6.29142101e+04,  1.04798550e+04,\n",
       "       -1.99450566e+04,  7.02001837e+03,  2.02472859e+04,  5.85821297e+04,\n",
       "       -1.24766361e+04,  5.11307022e+04,  2.40480590e+04,  9.24366876e+03,\n",
       "        7.37041566e+04, -2.26568686e+04,  4.32345977e+04,  1.60727278e+04,\n",
       "       -2.88805524e+04, -1.43586237e+04, -2.05823074e+04,  1.85706438e+04,\n",
       "       -3.30296749e+04,  6.31302261e+04,  3.12191355e+04,  1.63364403e+04,\n",
       "        2.04526314e+04,  1.77535911e+04,  9.27603551e+04,  5.52171285e+04,\n",
       "        8.36450575e+04,  1.48241863e+05,  1.02114984e+05, -2.05823074e+04,\n",
       "        4.61729696e+04,  2.70234839e+03,  1.27788654e+04,  5.90848191e+04,\n",
       "        5.67490107e+04, -1.10265538e+04,  1.42767615e+04,  2.27197663e+04,\n",
       "        9.71905862e+03,  6.10365611e+04,  3.32936968e+04,  5.49356966e+04,\n",
       "       -1.71013194e+03,  5.86470632e+04,  1.63364403e+04,  1.81870969e+05,\n",
       "        2.41698486e+04,  1.44215213e+04,  1.02723988e+04,  4.78156255e+04,\n",
       "        3.06346956e+03,  4.50458011e+04,  3.99216316e+04,  1.37081842e+04,\n",
       "        4.28494503e+04,  1.88752063e+05,  1.85706438e+04, -2.05823074e+04,\n",
       "        4.80081992e+04,  4.38010644e+04,  3.75944752e+04,  4.03302120e+04,\n",
       "       -7.64280359e+03,  5.35744725e+04,  8.53259208e+04, -2.67224352e+04,\n",
       "       -1.87003198e+04,  7.94959350e+04, -2.47314299e+04,  8.92357117e+04,\n",
       "        6.35950628e+04,  2.96344920e+04,  8.52877134e+04,  1.90351259e+04,\n",
       "       -7.96674706e+03,  7.46041917e+04, -1.90614410e+04, -1.64331849e+04,\n",
       "        1.86333401e+04,  2.56199308e+04,  2.37946711e+05,  4.88338024e+04,\n",
       "        4.48548661e+04,  1.01884203e+05,  3.54571162e+04,  1.03372493e+05,\n",
       "        2.03814926e+04, -2.49240036e+04,  1.42289476e+04,  3.39181758e+04,\n",
       "        1.64960826e+04,  8.62974291e+03,  3.80672983e+04, -8.95199260e+03,\n",
       "        7.88629054e+04,  2.99616270e+04,  6.18727175e+04,  3.32936968e+04,\n",
       "        7.63946463e+04,  2.81263974e+04,  4.93024042e+04,  7.60628998e+03,\n",
       "        2.41698486e+04, -2.47314299e+04, -1.69868798e+04, -9.31311377e+03,\n",
       "        3.39181758e+04,  3.44715160e+04,  3.44537966e+04,  8.15704962e+04,\n",
       "        4.22164208e+04,  1.17554125e+04,  2.54273571e+04,  3.08893164e+04,\n",
       "        1.54088682e+04,  5.07157900e+04,  8.62130039e+03,  6.25301279e+04,\n",
       "        7.55775936e+04,  4.53777309e+04,  9.77350809e+04,  1.43419772e+05,\n",
       "        4.10563209e+04,  4.30420240e+04,  4.17972873e+04,  8.04502332e+04,\n",
       "        1.05969246e+03,  2.50326044e+04,  9.97059266e+04,  3.12191355e+04,\n",
       "        2.85497428e+04,  1.39684126e+05,  7.55775936e+04,  3.64429310e+02,\n",
       "        6.43079187e+04,  4.36665030e+04,  5.00247481e+04,  4.62437537e+04,\n",
       "        4.20238471e+04,  5.38467356e+04,  5.86911212e+04, -1.98912655e+04,\n",
       "        4.82156553e+04,  2.23048541e+04, -1.54150080e+04,  5.17115794e+04,\n",
       "        1.02316109e+05,  4.38590767e+04,  5.83329396e+03,  1.61438666e+04,\n",
       "        4.06445490e+04,  8.62974291e+03,  1.26900073e+04,  1.31937777e+04,\n",
       "        2.56948872e+05,  3.63496369e+04, -5.16399128e+03,  5.63064442e+04,\n",
       "        1.17365108e+05,  3.39181758e+04,  3.53682580e+04,  4.59336380e+04,\n",
       "        1.01835407e+04,  4.28494503e+04,  3.22755199e+04, -2.17496864e+03,\n",
       "        1.46242661e+05,  2.00604609e+05,  4.20238471e+04,  3.95173805e+04,\n",
       "       -3.81762457e+03,  4.87630183e+04,  5.97023927e+04, -2.23658566e+04,\n",
       "        1.44713244e+05,  3.89487186e+01,  4.80081992e+04,  2.45698784e+04,\n",
       "        1.17733395e+05,  4.51873694e+04,  4.52847781e+04,  9.36241658e+04,\n",
       "        6.12327635e+03,  4.15190470e+04,  3.60009330e+04,  2.54273571e+04,\n",
       "        4.57538361e+04,  5.68937705e+04,  3.33106899e+04,  4.94545712e+03,\n",
       "        8.21949752e+04,  4.28494503e+04,  4.28494503e+04,  5.44330072e+04,\n",
       "        2.80556132e+04,  6.17130752e+04,  7.33344848e+04,  4.86412288e+04,\n",
       "        1.52466345e+05,  5.85821297e+04, -4.59752461e+03,  3.95173805e+04,\n",
       "        6.94576254e+04,  3.53682580e+04,  6.27787145e+02,  5.19647480e+04,\n",
       "        3.68183403e+04,  4.20584329e+04, -1.07631960e+04,  1.42618790e+04,\n",
       "        1.75853983e+04,  2.24963468e+04,  5.85491983e+04,  5.61096492e+04,\n",
       "        4.22164208e+04,  5.73713791e+04,  6.26983208e+04,  1.82892120e+04,\n",
       "        5.83329396e+03,  6.31111224e+04,  4.78156255e+04,  4.70959658e+04,\n",
       "        4.94358939e+04,  3.51629125e+04, -2.05823074e+04,  8.19783759e+03,\n",
       "        4.80081992e+04,  1.43253639e+05,  4.92657078e+04,  3.10265619e+04,\n",
       "       -2.47339355e+03,  4.94545712e+03,  3.75943737e+04,  1.62146507e+04,\n",
       "        7.96334627e+02,  1.07999950e+05,  8.92603213e+03,  3.51045456e+04,\n",
       "       -2.22249633e+04,  5.15041233e+04,  3.49363527e+04,  5.13803081e+03,\n",
       "        4.74134851e+04,  4.06445490e+04,  1.18148200e+03,  8.48940155e+04,\n",
       "        1.34359212e+04,  2.81263974e+04,  4.56285007e+05,  1.16506160e+04,\n",
       "        3.43500811e+04, -3.67468920e+04,  5.11307022e+04,  1.34444717e+04,\n",
       "        7.30711270e+04,  3.37256021e+04,  3.39181758e+04,  3.04264637e+04,\n",
       "        2.13302697e+04,  3.64246424e+04,  4.57410643e+04,  3.82174171e+04,\n",
       "       -3.32395113e+03, -3.81762457e+03,  1.98100784e+04, -5.42734911e+03,\n",
       "        2.14878014e+04,  1.85706438e+04,  1.29575387e+05,  4.20238471e+04,\n",
       "        8.44578889e+04, -1.91322251e+04,  4.41309851e+04,  2.75019184e+04,\n",
       "        5.48649125e+04,  3.35361949e+04,  4.34739293e+04,  2.37475717e+03,\n",
       "        1.38639599e+04,  5.92773928e+04,  6.31503857e+04,  3.39181758e+04,\n",
       "        8.67674525e+04, -9.21570507e+03,  8.82020597e+03,  1.79790962e+04,\n",
       "        1.71184510e+04,  1.21873178e+04,  3.84800999e+04,  8.62974291e+03,\n",
       "        1.38858878e+05, -6.53747615e+02,  9.28715330e+03,  1.11691409e+04,\n",
       "       -7.85025972e+03,  3.93955910e+04,  1.64960826e+04,  8.84228802e+04,\n",
       "        7.02001837e+03, -3.05232083e+04,  3.54719736e+04,  6.06566909e+04,\n",
       "        3.47649934e+04,  4.40814153e+04,  4.49112398e+04,  4.45479064e+04,\n",
       "        2.19432270e+05, -2.07748811e+04,  1.19947441e+04, -1.22840624e+04,\n",
       "        8.24173138e+04,  1.11192164e+04,  4.17291873e+04,  4.55314975e+04,\n",
       "       -3.65415466e+04,  5.65075684e+04,  2.56199308e+04,  3.12361286e+04,\n",
       "        5.15456145e+04,  9.11121805e+03,  8.96676170e+04,  3.59927370e+04,\n",
       "        8.53216995e+04,  5.44000758e+04,  5.46637883e+04,  1.04126957e+05,\n",
       "        1.38962593e+05, -4.73208596e+03,  5.19647480e+04,  5.86720175e+04,\n",
       "        8.20638814e+03, -4.67505818e+02,  2.29378836e+04, -2.22249633e+04,\n",
       "        4.69985728e+04,  3.28617915e+04,  2.81593288e+04, -1.27822662e+03,\n",
       "        6.41653961e+04,  3.18436145e+04,  8.57196187e+04,  2.02132998e+04,\n",
       "        1.01127565e+04,  4.69985728e+04,  6.06566909e+04,  5.12107632e+04,\n",
       "        4.57410643e+04,  4.79316660e+04,  3.80672983e+04,  2.60518361e+04,\n",
       "        1.71855624e+02,  2.06909083e+04,  5.62112792e+04,  1.85706438e+04,\n",
       "        3.89300542e+04,  1.44817523e+04,  3.80672983e+04,  1.05207723e+05,\n",
       "        1.82184278e+04,  8.96676170e+04,  4.36792748e+04,  1.42618790e+04,\n",
       "       -1.30303309e+04,  1.07372355e+04,  1.85706438e+04,  5.34148302e+04,\n",
       "        2.06836488e+05,  6.85612380e+04,  1.05446619e+04,  2.85115447e+04,\n",
       "        4.13115909e+04, -8.68863477e+03, -2.47314299e+04, -1.38771485e+04,\n",
       "        6.58811305e+03,  9.08539868e+04,  7.09080252e+03,  1.52429033e+04,\n",
       "        4.07748891e+04,  9.16500913e+03,  4.53333056e+03,  3.69305141e+04,\n",
       "        1.02208172e+05,  1.71534930e+04,  5.71299368e+04,  5.25892270e+04,\n",
       "        2.20394872e+04,  7.86703317e+04,  1.09298092e+04,  4.86412288e+04,\n",
       "        4.55484906e+04,  4.26483261e+04,  1.82184278e+04,  3.26692178e+04,\n",
       "        1.85706438e+04,  1.75960595e+04, -9.31311377e+03,  1.11691409e+04,\n",
       "        6.06566909e+04, -1.27822662e+03,  2.38884167e+04,  6.76052716e+03,\n",
       "        8.49355067e+04,  1.71855624e+02,  2.02929891e+04,  4.94752745e+04,\n",
       "        1.44215213e+04,  7.57617247e+04,  2.11100418e+04,  2.69145920e+04,\n",
       "        3.47437790e+04,  4.05737648e+04,  5.30211323e+04,  3.71794614e+04,\n",
       "       -3.05232083e+04, -8.74453648e+03,  5.65075684e+04,  2.43751941e+04,\n",
       "        5.93070266e+03,  8.30120279e+04,  4.76039481e+04,  2.33527959e+04,\n",
       "        1.43326632e+04,  1.14956050e+05,  1.20451539e+05,  1.33233403e+05,\n",
       "        2.78584636e+04,  2.27197663e+04,  2.14198029e+04,  8.12386188e+03,\n",
       "        1.03393164e+04,  2.61226203e+04,  3.59927370e+04, -6.87743136e+03,\n",
       "        8.15704962e+04, -5.09320713e+03,  4.63655433e+04, -2.26568686e+04,\n",
       "        3.92684332e+04,  7.72202495e+04,  9.37934145e+04,  4.48062042e+03,\n",
       "       -6.61407352e+03,  2.95764796e+04,  1.64960826e+04,  8.75930557e+04,\n",
       "        7.02001837e+03,  6.17838594e+04, -2.11876827e+04,  3.53682580e+04,\n",
       "        4.22164208e+04,  1.38962593e+05, -9.31311377e+03,  2.30766662e+04,\n",
       "       -1.10265538e+04,  8.26178738e+04,  2.21101698e+04,  8.47010061e+03,\n",
       "        6.12327635e+03, -7.55982115e+03,  3.42423610e+03,  2.22878610e+04,\n",
       "        6.18727175e+04,  1.21347926e+05,  2.80556132e+04, -5.59589659e+03,\n",
       "        2.27197663e+04,  1.33292604e+05,  1.24942932e+04,  4.40085205e+04,\n",
       "        2.80397835e+03,  4.34739293e+04,  4.36665030e+04,  1.15299074e+04,\n",
       "        4.57538361e+04,  2.48049887e+04,  6.65091816e+04,  2.87089587e+03,\n",
       "        2.49847906e+04,  3.64954265e+04,  9.04932202e+04,  2.00915102e+04,\n",
       "        4.16627259e+04,  9.15113971e+04,  3.92950420e+04,  4.99609709e+04,\n",
       "        4.06131454e+04,  7.28337620e+03, -1.27822662e+03, -1.64331849e+04,\n",
       "        6.11593804e+04, -8.13493991e+03,  3.53682580e+04,  8.73622746e+04,\n",
       "        1.91264406e+05,  1.19320478e+04,  4.19366434e+04,  3.39181758e+04,\n",
       "        4.47867661e+04,  7.10677045e+04, -1.64331849e+04,  1.36494334e+05,\n",
       "        1.71841717e+05,  4.53389238e+04, -3.25977696e+04,  4.20238471e+04,\n",
       "        3.53682580e+04,  4.38590767e+04,  4.35447135e+04,  4.15919418e+04,\n",
       "        3.83306561e+04,  2.48400308e+04,  4.15919418e+04,  3.95881647e+04,\n",
       "        6.73122800e+04,  4.00253629e+04,  1.60727278e+04,  8.71611504e+04,\n",
       "        5.27903512e+04, -2.47314299e+04,  8.69685767e+04,  8.03187269e+03,\n",
       "       -3.05232083e+04, -1.85077461e+04,  4.01418595e+04,  5.13803081e+03,\n",
       "        4.68174465e+03,  4.76230518e+04,  3.86875560e+04,  8.19783759e+03,\n",
       "        5.34148302e+04,  1.93781731e+04,  3.55757142e+04,  5.19647480e+04,\n",
       "       -3.81762457e+03,  5.48649125e+04,  3.53682580e+04,  7.78292534e+03,\n",
       "        2.64369835e+04,  4.00200700e+04,  4.50458011e+04,  1.94999626e+04,\n",
       "        3.02338900e+04,  1.48480621e+05,  1.54598317e+04,  3.80672983e+04,\n",
       "        4.53389238e+04,  6.04555667e+04,  5.22281058e+04,  5.85821297e+04,\n",
       "        2.87089587e+03,  4.92657078e+04,  2.96344920e+04,  9.03621264e+03,\n",
       "        1.05446619e+04,  9.66978003e+04,  2.95387832e+03,  1.21480545e+04,\n",
       "        8.27800736e+04,  5.03880815e+04, -2.07748811e+04,  5.14110531e+04,\n",
       "       -1.02095012e+04,  1.73928246e+04,  1.21159001e+05,  3.64076493e+04,\n",
       "        3.24680935e+04,  1.80304390e+05,  1.00866026e+05, -1.07631960e+04,\n",
       "       -7.93324217e+03, -2.12067864e+04,  8.30120279e+04,  2.27197663e+04,\n",
       "        9.64791983e+03,  4.77690964e+03,  4.70612549e+03,  6.05349014e+04,\n",
       "        5.44330072e+04, -5.56191046e+03,  5.11307022e+04,  8.12805138e+04,\n",
       "        8.32513596e+04,  4.17845155e+04,  2.75019184e+04,  1.55849066e+05,\n",
       "       -1.47905290e+04, -1.93247988e+04,  1.34967485e+03,  4.54007012e+04,\n",
       "        7.70276758e+04,  1.50354472e+04,  3.95173805e+04,  1.61438666e+04,\n",
       "        8.28194542e+04,  2.81263974e+04,  1.27788654e+04, -2.05823074e+04,\n",
       "        3.95173805e+04,  3.01246417e+03,  4.59506310e+04,  6.62580063e+04,\n",
       "        1.02809494e+04,  4.13285839e+04,  2.54793922e+04, -7.64280359e+03,\n",
       "        8.39795541e+04, -2.82974473e+04, -1.42750677e+04, -2.88805524e+04,\n",
       "       -3.46723308e+04,  1.10782547e+05,  4.51165853e+04,  6.89039305e+04,\n",
       "        7.59521878e+04, -1.08565293e+03,  1.26900073e+04,  3.37256021e+04,\n",
       "       -7.96674706e+03,  2.31388905e+04, -1.80758408e+04, -7.30933667e+03,\n",
       "        4.03472050e+04,  1.34444717e+04, -2.39622003e+04,  2.67029239e+04,\n",
       "        5.90970174e+04,  8.61759049e+04,  5.35744725e+04, -1.64356905e+03,\n",
       "        5.90140350e+04,  8.69630580e+03,  3.86291891e+04,  7.11707243e+03,\n",
       "        6.45803083e+04,  1.36044686e+04,  4.85997375e+04,  3.10265619e+04,\n",
       "       -6.57968875e+02,  5.07157900e+04, -6.61407352e+03, -1.87003198e+04,\n",
       "        1.21997350e+04,  1.26900073e+04,  9.77732883e+04,  6.89220045e+04,\n",
       "        2.40480590e+04,  3.53682580e+04,  1.61652782e+05,  4.29712399e+04])"
      ]
     },
     "execution_count": 73,
     "metadata": {},
     "output_type": "execute_result"
    }
   ],
   "source": [
    "test_test=testData[['BHK','Size', 'Furnishing Status','Bathroom', 'City']]\n",
    "\n",
    "test_predictions=model.predict(test_test)\n",
    "\n",
    "test_predictions"
   ]
  },
  {
   "cell_type": "code",
   "execution_count": 74,
   "metadata": {},
   "outputs": [
    {
     "data": {
      "text/plain": [
       "54525.183884198486"
      ]
     },
     "execution_count": 74,
     "metadata": {},
     "output_type": "execute_result"
    }
   ],
   "source": [
    "MAE = mean_absolute_error(testData['Rent'],test_predictions)\n",
    "MSE = mean_squared_error(testData['Rent'],test_predictions)\n",
    "RMSE = np.sqrt(MSE)\n",
    "RMSE"
   ]
  },
  {
   "cell_type": "code",
   "execution_count": 75,
   "metadata": {},
   "outputs": [
    {
     "data": {
      "image/png": "[encoded data removed]",
      "text/plain": [
       "<Figure size 640x480 with 1 Axes>"
      ]
     },
     "metadata": {},
     "output_type": "display_data"
    }
   ],
   "source": [
    "rent_predicted= pd.DataFrame(data=test_predictions,columns=[\"Rent Predicted\"])\n",
    "last_rent=trainData[['Rent']].tail(1000)\n",
    "sns.scatterplot(y=rent_predicted['Rent Predicted'],x=rent_predicted.index,legend=\"auto\",markers=\"s\")\n",
    "sns.scatterplot(y=last_rent['Rent'],x=last_rent.index,legend=\"auto\",markers=\"s\")\n",
    "plt.grid()\n",
    "plt.title(\"Predicted Rent V/s Actual Rent\")\n",
    "plt.xlabel(\"Index\")\n",
    "plt.ylabel(\"Rent\")\n",
    "plt.legend(['Predicted Rent','Actual Rent'])\n",
    "plt.show()"
   ]
  },
  {
   "cell_type": "code",
   "execution_count": 76,
   "metadata": {},
   "outputs": [
    {
     "name": "stderr",
     "output_type": "stream",
     "text": [
      "/home/namish/.local/lib/python3.10/site-packages/sklearn/linear_model/_logistic.py:444: ConvergenceWarning: lbfgs failed to converge (status=1):\n",
      "STOP: TOTAL NO. of ITERATIONS REACHED LIMIT.\n",
      "\n",
      "Increase the number of iterations (max_iter) or scale the data as shown in:\n",
      "    https://scikit-learn.org/stable/modules/preprocessing.html\n",
      "Please also refer to the documentation for alternative solver options:\n",
      "    https://scikit-learn.org/stable/modules/linear_model.html#logistic-regression\n",
      "  n_iter_i = _check_optimize_result(\n"
     ]
    },
    {
     "data": {
      "text/html": [
       "<style>#sk-container-id-9 {color: black;background-color: white;}#sk-container-id-9 pre{padding: 0;}#sk-container-id-9 div.sk-toggleable {background-color: white;}#sk-container-id-9 label.sk-toggleable__label {cursor: pointer;display: block;width: 100%;margin-bottom: 0;padding: 0.3em;box-sizing: border-box;text-align: center;}#sk-container-id-9 label.sk-toggleable__label-arrow:before {content: \"▸\";float: left;margin-right: 0.25em;color: #696969;}#sk-container-id-9 label.sk-toggleable__label-arrow:hover:before {color: black;}#sk-container-id-9 div.sk-estimator:hover label.sk-toggleable__label-arrow:before {color: black;}#sk-container-id-9 div.sk-toggleable__content {max-height: 0;max-width: 0;overflow: hidden;text-align: left;background-color: #f0f8ff;}#sk-container-id-9 div.sk-toggleable__content pre {margin: 0.2em;color: black;border-radius: 0.25em;background-color: #f0f8ff;}#sk-container-id-9 input.sk-toggleable__control:checked~div.sk-toggleable__content {max-height: 200px;max-width: 100%;overflow: auto;}#sk-container-id-9 input.sk-toggleable__control:checked~label.sk-toggleable__label-arrow:before {content: \"▾\";}#sk-container-id-9 div.sk-estimator input.sk-toggleable__control:checked~label.sk-toggleable__label {background-color: #d4ebff;}#sk-container-id-9 div.sk-label input.sk-toggleable__control:checked~label.sk-toggleable__label {background-color: #d4ebff;}#sk-container-id-9 input.sk-hidden--visually {border: 0;clip: rect(1px 1px 1px 1px);clip: rect(1px, 1px, 1px, 1px);height: 1px;margin: -1px;overflow: hidden;padding: 0;position: absolute;width: 1px;}#sk-container-id-9 div.sk-estimator {font-family: monospace;background-color: #f0f8ff;border: 1px dotted black;border-radius: 0.25em;box-sizing: border-box;margin-bottom: 0.5em;}#sk-container-id-9 div.sk-estimator:hover {background-color: #d4ebff;}#sk-container-id-9 div.sk-parallel-item::after {content: \"\";width: 100%;border-bottom: 1px solid gray;flex-grow: 1;}#sk-container-id-9 div.sk-label:hover label.sk-toggleable__label {background-color: #d4ebff;}#sk-container-id-9 div.sk-serial::before {content: \"\";position: absolute;border-left: 1px solid gray;box-sizing: border-box;top: 0;bottom: 0;left: 50%;z-index: 0;}#sk-container-id-9 div.sk-serial {display: flex;flex-direction: column;align-items: center;background-color: white;padding-right: 0.2em;padding-left: 0.2em;position: relative;}#sk-container-id-9 div.sk-item {position: relative;z-index: 1;}#sk-container-id-9 div.sk-parallel {display: flex;align-items: stretch;justify-content: center;background-color: white;position: relative;}#sk-container-id-9 div.sk-item::before, #sk-container-id-9 div.sk-parallel-item::before {content: \"\";position: absolute;border-left: 1px solid gray;box-sizing: border-box;top: 0;bottom: 0;left: 50%;z-index: -1;}#sk-container-id-9 div.sk-parallel-item {display: flex;flex-direction: column;z-index: 1;position: relative;background-color: white;}#sk-container-id-9 div.sk-parallel-item:first-child::after {align-self: flex-end;width: 50%;}#sk-container-id-9 div.sk-parallel-item:last-child::after {align-self: flex-start;width: 50%;}#sk-container-id-9 div.sk-parallel-item:only-child::after {width: 0;}#sk-container-id-9 div.sk-dashed-wrapped {border: 1px dashed gray;margin: 0 0.4em 0.5em 0.4em;box-sizing: border-box;padding-bottom: 0.4em;background-color: white;}#sk-container-id-9 div.sk-label label {font-family: monospace;font-weight: bold;display: inline-block;line-height: 1.2em;}#sk-container-id-9 div.sk-label-container {text-align: center;}#sk-container-id-9 div.sk-container {/* jupyter's `normalize.less` sets `[hidden] { display: none; }` but bootstrap.min.css set `[hidden] { display: none !important; }` so we also need the `!important` here to be able to override the default hidden behavior on the sphinx rendered scikit-learn.org. See: https://github.com/scikit-learn/scikit-learn/issues/21755 */display: inline-block !important;position: relative;}#sk-container-id-9 div.sk-text-repr-fallback {display: none;}</style><div id=\"sk-container-id-9\" class=\"sk-top-container\"><div class=\"sk-text-repr-fallback\"><pre>LogisticRegression(max_iter=10)</pre><b>In a Jupyter environment, please rerun this cell to show the HTML representation or trust the notebook. <br />On GitHub, the HTML representation is unable to render, please try loading this page with nbviewer.org.</b></div><div class=\"sk-container\" hidden><div class=\"sk-item\"><div class=\"sk-estimator sk-toggleable\"><input class=\"sk-toggleable__control sk-hidden--visually\" id=\"sk-estimator-id-9\" type=\"checkbox\" checked><label for=\"sk-estimator-id-9\" class=\"sk-toggleable__label sk-toggleable__label-arrow\">LogisticRegression</label><div class=\"sk-toggleable__content\"><pre>LogisticRegression(max_iter=10)</pre></div></div></div></div></div>"
      ],
      "text/plain": [
       "LogisticRegression(max_iter=10)"
      ]
     },
     "execution_count": 76,
     "metadata": {},
     "output_type": "execute_result"
    }
   ],
   "source": [
    "#logistic regression\n",
    "\n",
    "test_train=trainData[['BHK','Size', 'Furnishing Status','Bathroom', 'City']]\n",
    "logistic_model=LogisticRegression(solver='lbfgs',max_iter=10)\n",
    "logistic_model.fit(test_train,trainData['Rent'])\n"
   ]
  },
  {
   "cell_type": "code",
   "execution_count": 87,
   "metadata": {},
   "outputs": [],
   "source": [
    "logistic_prediction=logistic_model.predict(validation[['BHK','Size', 'FutestDatarnishing Status','Bathroom', 'City']])"
   ]
  },
  {
   "cell_type": "code",
   "execution_count": 88,
   "metadata": {},
   "outputs": [
    {
     "data": {
      "text/plain": [
       "array([15000, 15000, 15000, 15000, 15000, 10000, 15000, 15000, 15000,\n",
       "       15000, 10000, 15000, 15000, 15000, 10000, 15000, 15000, 15000,\n",
       "       15000, 15000, 15000, 10000, 15000, 15000, 15000, 15000, 15000,\n",
       "       15000, 10000, 10000, 15000, 10000, 15000, 15000, 15000, 15000,\n",
       "       15000, 10000, 10000, 10000, 15000, 10000, 10000, 15000, 15000,\n",
       "       15000, 15000, 10000, 15000, 15000, 15000, 15000, 15000, 10000,\n",
       "       10000, 15000, 10000, 10000, 15000, 15000, 15000, 15000, 15000,\n",
       "       10000, 10000, 15000, 10000, 15000, 15000, 15000, 10000, 10000,\n",
       "       15000, 10000, 15000, 30000, 10000, 10000, 15000, 15000, 10000,\n",
       "       15000, 15000, 15000, 15000, 15000, 15000, 15000, 15000, 10000,\n",
       "       10000, 15000, 15000, 15000, 10000, 15000, 10000, 15000, 10000,\n",
       "       15000, 15000, 15000, 15000, 10000, 10000, 10000, 10000, 15000,\n",
       "       15000, 15000, 15000, 15000, 15000, 15000, 15000, 15000, 15000,\n",
       "       10000, 15000, 15000, 15000, 15000, 15000, 15000, 15000, 15000,\n",
       "       15000, 15000, 10000, 15000, 15000, 15000, 15000, 15000, 15000,\n",
       "       15000, 15000, 15000, 15000, 10000, 15000, 15000, 15000, 15000,\n",
       "       10000, 15000, 15000, 10000, 15000, 15000, 15000, 15000, 15000,\n",
       "       10000, 15000, 15000, 10000, 15000, 15000, 15000, 10000, 10000,\n",
       "       15000, 15000, 15000, 10000, 15000, 15000, 15000, 15000, 15000,\n",
       "       10000, 15000, 15000, 15000, 10000, 15000, 10000, 15000, 15000,\n",
       "       15000, 10000, 15000, 15000, 15000, 15000, 10000, 15000, 15000,\n",
       "       10000, 10000, 10000, 10000, 15000, 15000, 15000, 15000, 10000,\n",
       "       15000, 10000, 10000, 15000, 15000, 15000, 15000, 15000, 15000,\n",
       "       15000, 15000, 15000, 10000, 15000, 15000, 10000, 10000, 15000,\n",
       "       15000, 10000, 15000, 15000, 15000, 15000, 15000, 15000, 15000,\n",
       "       10000, 15000, 10000, 10000, 15000, 15000, 10000, 15000, 15000,\n",
       "       15000, 15000, 10000, 15000, 15000, 15000, 10000, 10000, 15000,\n",
       "       15000, 15000, 15000, 15000, 15000, 15000, 10000, 15000, 15000,\n",
       "       15000, 15000, 15000, 15000, 15000, 15000, 15000, 10000, 10000,\n",
       "       15000, 15000, 15000, 10000, 15000, 15000, 15000, 15000, 15000,\n",
       "       15000, 15000, 15000, 15000, 10000, 15000, 15000, 10000, 15000,\n",
       "       15000, 10000, 15000, 15000, 15000, 15000, 15000, 15000, 15000,\n",
       "       30000, 30000, 10000, 10000, 15000, 15000, 15000, 10000, 15000,\n",
       "       15000, 15000, 10000, 15000, 15000, 15000, 10000, 15000, 15000,\n",
       "       10000, 15000, 10000, 15000, 15000, 10000, 15000, 15000, 15000,\n",
       "       10000, 10000, 10000, 15000, 10000, 15000, 15000, 15000, 10000,\n",
       "       15000, 10000, 15000, 15000, 15000, 15000, 15000, 15000, 15000,\n",
       "       15000, 15000, 15000, 15000, 10000, 15000, 10000, 10000, 10000,\n",
       "       10000, 15000, 15000, 10000, 15000, 15000, 10000, 15000, 15000,\n",
       "       15000, 15000, 15000, 10000, 15000, 15000, 15000, 15000, 10000,\n",
       "       15000, 15000, 10000, 15000, 15000, 10000, 15000, 10000, 15000,\n",
       "       15000, 10000, 10000, 10000, 10000, 15000, 15000, 15000, 15000,\n",
       "       15000, 10000, 15000, 15000, 15000, 15000, 10000, 15000, 15000,\n",
       "       10000, 30000, 10000, 15000, 15000, 15000, 15000, 10000, 15000,\n",
       "       15000, 15000, 10000, 10000, 15000, 15000, 10000, 15000, 15000,\n",
       "       15000, 10000, 10000, 10000, 15000, 30000, 15000, 15000, 15000,\n",
       "       15000, 10000, 15000, 10000, 15000, 10000, 15000, 15000, 10000,\n",
       "       15000, 15000, 10000, 15000, 10000, 15000, 15000, 10000, 15000,\n",
       "       15000, 10000, 10000, 15000, 15000, 15000, 15000, 15000, 15000,\n",
       "       10000, 15000, 10000, 10000, 10000, 15000, 15000, 15000, 15000,\n",
       "       15000, 10000, 15000, 15000, 15000, 15000, 10000, 15000, 15000,\n",
       "       10000, 15000, 10000, 15000, 15000, 15000, 10000, 10000, 15000,\n",
       "       10000, 15000, 10000, 10000, 15000, 10000, 15000, 15000, 15000,\n",
       "       15000, 15000, 10000, 10000, 15000, 15000, 10000, 15000, 10000,\n",
       "       15000, 15000, 15000, 15000, 15000, 15000, 10000, 15000, 15000,\n",
       "       15000, 15000, 15000, 10000, 10000, 10000, 15000, 30000, 15000,\n",
       "       15000, 15000, 15000, 10000, 10000, 10000, 10000, 15000, 10000,\n",
       "       15000, 15000, 10000, 15000, 15000, 15000, 15000, 15000, 15000,\n",
       "       10000, 15000, 15000, 10000, 15000, 10000, 10000, 10000, 30000,\n",
       "       15000, 10000, 15000, 15000, 15000, 10000, 15000, 15000, 15000,\n",
       "       15000, 15000, 15000, 15000, 10000, 15000, 15000, 15000, 15000,\n",
       "       15000, 10000, 15000, 15000, 15000, 15000, 15000, 10000, 15000,\n",
       "       10000, 15000, 15000, 15000, 10000, 15000, 15000, 15000, 15000,\n",
       "       15000, 15000, 10000, 15000, 15000, 10000, 15000, 15000, 15000,\n",
       "       15000, 10000, 10000, 30000, 15000, 15000, 15000, 15000, 15000,\n",
       "       10000, 10000, 10000, 15000, 15000, 10000, 15000, 10000, 15000,\n",
       "       15000, 15000, 15000, 15000, 15000, 15000, 15000, 10000, 15000,\n",
       "       15000, 15000, 10000, 10000, 15000, 15000, 15000, 15000, 15000,\n",
       "       15000, 15000, 15000, 10000, 10000, 15000, 15000, 15000, 15000,\n",
       "       15000, 15000, 15000, 15000, 15000, 15000, 10000, 15000, 10000,\n",
       "       15000, 15000, 10000, 10000, 15000, 30000, 15000, 10000, 15000,\n",
       "       15000, 15000, 15000, 15000, 15000, 15000, 15000, 15000, 15000,\n",
       "       10000, 15000, 10000, 15000, 10000, 15000, 15000, 10000, 10000,\n",
       "       15000, 15000, 15000, 15000, 15000, 15000, 15000, 15000, 15000,\n",
       "       15000, 15000, 15000, 15000, 15000, 15000, 15000, 15000, 10000,\n",
       "       15000, 15000, 15000, 10000, 15000, 15000, 15000, 10000, 10000,\n",
       "       10000, 15000, 10000, 15000, 15000, 15000, 15000, 15000, 10000,\n",
       "       15000, 15000, 15000, 15000, 15000, 10000, 15000, 15000, 15000,\n",
       "       15000, 10000, 15000, 10000, 15000, 15000, 15000, 15000, 10000,\n",
       "       15000, 10000, 15000, 15000, 10000, 15000, 15000, 15000, 15000,\n",
       "       30000, 10000, 15000, 15000, 15000, 15000, 10000, 15000, 10000,\n",
       "       10000, 15000, 15000, 10000, 15000, 10000, 10000, 15000, 15000,\n",
       "       10000, 15000, 15000, 10000, 15000, 10000, 10000, 30000, 15000,\n",
       "       15000, 15000])"
      ]
     },
     "execution_count": 88,
     "metadata": {},
     "output_type": "execute_result"
    }
   ],
   "source": [
    "logistic_prediction"
   ]
  },
  {
   "cell_type": "code",
   "execution_count": 90,
   "metadata": {},
   "outputs": [
    {
     "data": {
      "text/plain": [
       "52719.93019758959"
      ]
     },
     "execution_count": 90,
     "metadata": {},
     "output_type": "execute_result"
    }
   ],
   "source": [
    "mae = mean_absolute_error(validation['Rent'],logistic_prediction)\n",
    "mse = mean_squared_error(validation['Rent'],logistic_prediction)\n",
    "rmse = np.sqrt(mse)\n",
    "rmse"
   ]
  },
  {
   "cell_type": "code",
   "execution_count": 91,
   "metadata": {},
   "outputs": [
    {
     "data": {
      "text/plain": [
       "0.05740987983978638"
      ]
     },
     "execution_count": 91,
     "metadata": {},
     "output_type": "execute_result"
    }
   ],
   "source": [
    "accuracy_score(validation['Rent'],logistic_prediction)"
   ]
  },
  {
   "cell_type": "code",
   "execution_count": 94,
   "metadata": {},
   "outputs": [
    {
     "name": "stderr",
     "output_type": "stream",
     "text": [
      "/home/namish/.local/lib/python3.10/site-packages/sklearn/linear_model/_logistic.py:444: ConvergenceWarning: lbfgs failed to converge (status=1):\n",
      "STOP: TOTAL NO. of ITERATIONS REACHED LIMIT.\n",
      "\n",
      "Increase the number of iterations (max_iter) or scale the data as shown in:\n",
      "    https://scikit-learn.org/stable/modules/preprocessing.html\n",
      "Please also refer to the documentation for alternative solver options:\n",
      "    https://scikit-learn.org/stable/modules/linear_model.html#logistic-regression\n",
      "  n_iter_i = _check_optimize_result(\n"
     ]
    },
    {
     "data": {
      "text/html": [
       "<style>#sk-container-id-12 {color: black;background-color: white;}#sk-container-id-12 pre{padding: 0;}#sk-container-id-12 div.sk-toggleable {background-color: white;}#sk-container-id-12 label.sk-toggleable__label {cursor: pointer;display: block;width: 100%;margin-bottom: 0;padding: 0.3em;box-sizing: border-box;text-align: center;}#sk-container-id-12 label.sk-toggleable__label-arrow:before {content: \"▸\";float: left;margin-right: 0.25em;color: #696969;}#sk-container-id-12 label.sk-toggleable__label-arrow:hover:before {color: black;}#sk-container-id-12 div.sk-estimator:hover label.sk-toggleable__label-arrow:before {color: black;}#sk-container-id-12 div.sk-toggleable__content {max-height: 0;max-width: 0;overflow: hidden;text-align: left;background-color: #f0f8ff;}#sk-container-id-12 div.sk-toggleable__content pre {margin: 0.2em;color: black;border-radius: 0.25em;background-color: #f0f8ff;}#sk-container-id-12 input.sk-toggleable__control:checked~div.sk-toggleable__content {max-height: 200px;max-width: 100%;overflow: auto;}#sk-container-id-12 input.sk-toggleable__control:checked~label.sk-toggleable__label-arrow:before {content: \"▾\";}#sk-container-id-12 div.sk-estimator input.sk-toggleable__control:checked~label.sk-toggleable__label {background-color: #d4ebff;}#sk-container-id-12 div.sk-label input.sk-toggleable__control:checked~label.sk-toggleable__label {background-color: #d4ebff;}#sk-container-id-12 input.sk-hidden--visually {border: 0;clip: rect(1px 1px 1px 1px);clip: rect(1px, 1px, 1px, 1px);height: 1px;margin: -1px;overflow: hidden;padding: 0;position: absolute;width: 1px;}#sk-container-id-12 div.sk-estimator {font-family: monospace;background-color: #f0f8ff;border: 1px dotted black;border-radius: 0.25em;box-sizing: border-box;margin-bottom: 0.5em;}#sk-container-id-12 div.sk-estimator:hover {background-color: #d4ebff;}#sk-container-id-12 div.sk-parallel-item::after {content: \"\";width: 100%;border-bottom: 1px solid gray;flex-grow: 1;}#sk-container-id-12 div.sk-label:hover label.sk-toggleable__label {background-color: #d4ebff;}#sk-container-id-12 div.sk-serial::before {content: \"\";position: absolute;border-left: 1px solid gray;box-sizing: border-box;top: 0;bottom: 0;left: 50%;z-index: 0;}#sk-container-id-12 div.sk-serial {display: flex;flex-direction: column;align-items: center;background-color: white;padding-right: 0.2em;padding-left: 0.2em;position: relative;}#sk-container-id-12 div.sk-item {position: relative;z-index: 1;}#sk-container-id-12 div.sk-parallel {display: flex;align-items: stretch;justify-content: center;background-color: white;position: relative;}#sk-container-id-12 div.sk-item::before, #sk-container-id-12 div.sk-parallel-item::before {content: \"\";position: absolute;border-left: 1px solid gray;box-sizing: border-box;top: 0;bottom: 0;left: 50%;z-index: -1;}#sk-container-id-12 div.sk-parallel-item {display: flex;flex-direction: column;z-index: 1;position: relative;background-color: white;}#sk-container-id-12 div.sk-parallel-item:first-child::after {align-self: flex-end;width: 50%;}#sk-container-id-12 div.sk-parallel-item:last-child::after {align-self: flex-start;width: 50%;}#sk-container-id-12 div.sk-parallel-item:only-child::after {width: 0;}#sk-container-id-12 div.sk-dashed-wrapped {border: 1px dashed gray;margin: 0 0.4em 0.5em 0.4em;box-sizing: border-box;padding-bottom: 0.4em;background-color: white;}#sk-container-id-12 div.sk-label label {font-family: monospace;font-weight: bold;display: inline-block;line-height: 1.2em;}#sk-container-id-12 div.sk-label-container {text-align: center;}#sk-container-id-12 div.sk-container {/* jupyter's `normalize.less` sets `[hidden] { display: none; }` but bootstrap.min.css set `[hidden] { display: none !important; }` so we also need the `!important` here to be able to override the default hidden behavior on the sphinx rendered scikit-learn.org. See: https://github.com/scikit-learn/scikit-learn/issues/21755 */display: inline-block !important;position: relative;}#sk-container-id-12 div.sk-text-repr-fallback {display: none;}</style><div id=\"sk-container-id-12\" class=\"sk-top-container\"><div class=\"sk-text-repr-fallback\"><pre>LogisticRegression(max_iter=2000)</pre><b>In a Jupyter environment, please rerun this cell to show the HTML representation or trust the notebook. <br />On GitHub, the HTML representation is unable to render, please try loading this page with nbviewer.org.</b></div><div class=\"sk-container\" hidden><div class=\"sk-item\"><div class=\"sk-estimator sk-toggleable\"><input class=\"sk-toggleable__control sk-hidden--visually\" id=\"sk-estimator-id-12\" type=\"checkbox\" checked><label for=\"sk-estimator-id-12\" class=\"sk-toggleable__label sk-toggleable__label-arrow\">LogisticRegression</label><div class=\"sk-toggleable__content\"><pre>LogisticRegression(max_iter=2000)</pre></div></div></div></div></div>"
      ],
      "text/plain": [
       "LogisticRegression(max_iter=2000)"
      ]
     },
     "execution_count": 94,
     "metadata": {},
     "output_type": "execute_result"
    }
   ],
   "source": [
    "logistic_model=LogisticRegression(solver='lbfgs',max_iter=2000)\n",
    "logistic_model.fit(test_train,trainData['Rent'])\n"
   ]
  },
  {
   "cell_type": "code",
   "execution_count": 82,
   "metadata": {},
   "outputs": [],
   "source": [
    "logistic_prediction_20=logistic_model.predict(validation[['BHK','Size','Furnishing Status', 'Bathroom', 'City']])"
   ]
  },
  {
   "cell_type": "code",
   "execution_count": 83,
   "metadata": {},
   "outputs": [
    {
     "data": {
      "text/plain": [
       "52719.93019758959"
      ]
     },
     "execution_count": 83,
     "metadata": {},
     "output_type": "execute_result"
    }
   ],
   "source": [
    "mae = mean_absolute_error(validation['Rent'],logistic_prediction_20)\n",
    "mse = mean_squared_error(validation['Rent'],logistic_prediction_20)\n",
    "rmse = np.sqrt(mse)\n",
    "rmse"
   ]
  },
  {
   "cell_type": "code",
   "execution_count": 84,
   "metadata": {},
   "outputs": [
    {
     "data": {
      "text/plain": [
       "0.05740987983978638"
      ]
     },
     "execution_count": 84,
     "metadata": {},
     "output_type": "execute_result"
    }
   ],
   "source": [
    "accuracy_score(validation['Rent'],logistic_prediction_20)"
   ]
  },
  {
   "cell_type": "code",
   "execution_count": 100,
   "metadata": {},
   "outputs": [
    {
     "data": {
      "image/png": "[encoded data removed]",
      "text/plain": [
       "<Figure size 640x480 with 1 Axes>"
      ]
     },
     "metadata": {},
     "output_type": "display_data"
    }
   ],
   "source": [
    "rent_predicted= pd.DataFrame(data=logistic_prediction_20,columns=[\"Rent Predicted\"])\n",
    "last_rent=trainData[['Rent']].tail(1000)\n",
    "sns.scatterplot(y=last_rent['Rent'],x=last_rent.index,legend=\"auto\",markers=\"s\")\n",
    "sns.scatterplot(y=rent_predicted['Rent Predicted'],x=rent_predicted.index,legend=\"auto\",markers=\"s\")\n",
    "plt.grid()\n",
    "plt.title(\"Predicted Rent V/s Actual Rent\")\n",
    "plt.xlabel(\"Index\")\n",
    "plt.ylabel(\"Rent\")\n",
    "plt.legend(['Predicted Rent','Actual Rent'])\n",
    "plt.show()"
   ]
  }
 ],
 "metadata": {
  "kernelspec": {
   "display_name": "Python 3.10.7 64-bit",
   "language": "python",
   "name": "python3"
  },
  "language_info": {
   "codemirror_mode": {
    "name": "ipython",
    "version": 3
   },
   "file_extension": ".py",
   "mimetype": "text/x-python",
   "name": "python",
   "nbconvert_exporter": "python",
   "pygments_lexer": "ipython3",
   "version": "3.10.8"
  },
  "orig_nbformat": 4,
  "vscode": {
   "interpreter": {
    "hash": "e7370f93d1d0cde622a1f8e1c04877d8463912d04d973331ad4851f04de6915a"
   }
  }
 },
 "nbformat": 4,
 "nbformat_minor": 2
}
